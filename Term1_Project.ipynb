{
 "cells": [
  {
   "cell_type": "markdown",
   "metadata": {},
   "source": [
    "<h1><center>Exploratory Data Analysis using Python for Car Sales Data</center></h1>"
   ]
  },
  {
   "cell_type": "markdown",
   "metadata": {},
   "source": [
    "![title](image1.png \"Car Sales Data\")"
   ]
  },
  {
   "cell_type": "markdown",
   "metadata": {},
   "source": [
    "## 1. Importing Packages"
   ]
  },
  {
   "cell_type": "code",
   "execution_count": 1,
   "metadata": {},
   "outputs": [],
   "source": [
    "import numpy as np                     # used for multi-dimentional arrays and matrics\n",
    "import pandas as pd                    # used for data manipulation and analysis \n",
    "import pandas_profiling                # used for data profiling\n",
    "import seaborn as sns                  # used for high level interface for drawing attractive & informative statistical graphics\n",
    "import matplotlib as mat               # Plotting library for Python programming language\n",
    "import matplotlib.pyplot as plt\n",
    "import bokeh                           # interactive visualization library for Python\n",
    "import sys                             # provides information about constants, functions and methods of the Python interpreter\n",
    "import os\n",
    "%matplotlib inline"
   ]
  },
  {
   "cell_type": "markdown",
   "metadata": {},
   "source": [
    "## 2. Data Loading and Description"
   ]
  },
  {
   "cell_type": "markdown",
   "metadata": {},
   "source": [
    "__Context__\n",
    "- This dataset was collected from car sale advertisements for study/practice purposes in 2016. \n",
    "\n",
    "- This dataset contains data for more than __9.5K cars sale in Ukraine__. \n",
    "\n",
    "__Content__ <br/>\n",
    "Dataset contains __9576__ rows and __10__ variables with essential meanings:\n",
    "\n",
    "- __car__: manufacturer brand\n",
    "- __price__: seller’s price in advertisement (in USD)\n",
    "- __body__: car body type\n",
    "- __mileage__: as mentioned in advertisement (‘000 Km)\n",
    "- __engV__: rounded engine volume (‘000 cubic cm)\n",
    "- __engType__: type of fuel (“Other” in this case should be treated as NA)\n",
    "- __registration__: whether car registered in Ukraine or not\n",
    "- __year__: year of production\n",
    "- __model__: specific model name\n",
    "- __drive__: drive type"
   ]
  },
  {
   "cell_type": "markdown",
   "metadata": {},
   "source": [
    "### 2.1 Loading Data"
   ]
  },
  {
   "cell_type": "code",
   "execution_count": 2,
   "metadata": {},
   "outputs": [
    {
     "data": {
      "text/html": [
       "<div>\n",
       "<style scoped>\n",
       "    .dataframe tbody tr th:only-of-type {\n",
       "        vertical-align: middle;\n",
       "    }\n",
       "\n",
       "    .dataframe tbody tr th {\n",
       "        vertical-align: top;\n",
       "    }\n",
       "\n",
       "    .dataframe thead th {\n",
       "        text-align: right;\n",
       "    }\n",
       "</style>\n",
       "<table border=\"1\" class=\"dataframe\">\n",
       "  <thead>\n",
       "    <tr style=\"text-align: right;\">\n",
       "      <th></th>\n",
       "      <th>car</th>\n",
       "      <th>price</th>\n",
       "      <th>body</th>\n",
       "      <th>mileage</th>\n",
       "      <th>engV</th>\n",
       "      <th>engType</th>\n",
       "      <th>registration</th>\n",
       "      <th>year</th>\n",
       "      <th>model</th>\n",
       "      <th>drive</th>\n",
       "    </tr>\n",
       "  </thead>\n",
       "  <tbody>\n",
       "    <tr>\n",
       "      <th>0</th>\n",
       "      <td>Ford</td>\n",
       "      <td>15500.0</td>\n",
       "      <td>crossover</td>\n",
       "      <td>68</td>\n",
       "      <td>2.5</td>\n",
       "      <td>Gas</td>\n",
       "      <td>yes</td>\n",
       "      <td>2010</td>\n",
       "      <td>Kuga</td>\n",
       "      <td>full</td>\n",
       "    </tr>\n",
       "    <tr>\n",
       "      <th>1</th>\n",
       "      <td>Mercedes-Benz</td>\n",
       "      <td>20500.0</td>\n",
       "      <td>sedan</td>\n",
       "      <td>173</td>\n",
       "      <td>1.8</td>\n",
       "      <td>Gas</td>\n",
       "      <td>yes</td>\n",
       "      <td>2011</td>\n",
       "      <td>E-Class</td>\n",
       "      <td>rear</td>\n",
       "    </tr>\n",
       "    <tr>\n",
       "      <th>2</th>\n",
       "      <td>Mercedes-Benz</td>\n",
       "      <td>35000.0</td>\n",
       "      <td>other</td>\n",
       "      <td>135</td>\n",
       "      <td>5.5</td>\n",
       "      <td>Petrol</td>\n",
       "      <td>yes</td>\n",
       "      <td>2008</td>\n",
       "      <td>CL 550</td>\n",
       "      <td>rear</td>\n",
       "    </tr>\n",
       "    <tr>\n",
       "      <th>3</th>\n",
       "      <td>Mercedes-Benz</td>\n",
       "      <td>17800.0</td>\n",
       "      <td>van</td>\n",
       "      <td>162</td>\n",
       "      <td>1.8</td>\n",
       "      <td>Diesel</td>\n",
       "      <td>yes</td>\n",
       "      <td>2012</td>\n",
       "      <td>B 180</td>\n",
       "      <td>front</td>\n",
       "    </tr>\n",
       "    <tr>\n",
       "      <th>4</th>\n",
       "      <td>Mercedes-Benz</td>\n",
       "      <td>33000.0</td>\n",
       "      <td>vagon</td>\n",
       "      <td>91</td>\n",
       "      <td>NaN</td>\n",
       "      <td>Other</td>\n",
       "      <td>yes</td>\n",
       "      <td>2013</td>\n",
       "      <td>E-Class</td>\n",
       "      <td>NaN</td>\n",
       "    </tr>\n",
       "  </tbody>\n",
       "</table>\n",
       "</div>"
      ],
      "text/plain": [
       "             car    price       body  mileage  engV engType registration  \\\n",
       "0           Ford  15500.0  crossover       68   2.5     Gas          yes   \n",
       "1  Mercedes-Benz  20500.0      sedan      173   1.8     Gas          yes   \n",
       "2  Mercedes-Benz  35000.0      other      135   5.5  Petrol          yes   \n",
       "3  Mercedes-Benz  17800.0        van      162   1.8  Diesel          yes   \n",
       "4  Mercedes-Benz  33000.0      vagon       91   NaN   Other          yes   \n",
       "\n",
       "   year    model  drive  \n",
       "0  2010     Kuga   full  \n",
       "1  2011  E-Class   rear  \n",
       "2  2008   CL 550   rear  \n",
       "3  2012    B 180  front  \n",
       "4  2013  E-Class    NaN  "
      ]
     },
     "execution_count": 2,
     "metadata": {},
     "output_type": "execute_result"
    }
   ],
   "source": [
    "cardata = pd.read_csv('https://raw.githubusercontent.com/insaid2018/Term-1/master/Data/Projects/car_sales.csv',sep=',',encoding='latin-1')\n",
    "cardata.head()"
   ]
  },
  {
   "cell_type": "markdown",
   "metadata": {},
   "source": [
    "### 2.2 Rename Columns name."
   ]
  },
  {
   "cell_type": "code",
   "execution_count": 3,
   "metadata": {
    "scrolled": true
   },
   "outputs": [
    {
     "data": {
      "text/plain": [
       "(9576, 10)"
      ]
     },
     "execution_count": 3,
     "metadata": {},
     "output_type": "execute_result"
    }
   ],
   "source": [
    "cardata.rename(columns={'car':'brand','year':'prod_year'},inplace=True) # Rename some columns name, to get meaningful information\n",
    "cardata.shape"
   ]
  },
  {
   "cell_type": "markdown",
   "metadata": {},
   "source": [
    "### 2.3 Removing Duplicate Rows"
   ]
  },
  {
   "cell_type": "code",
   "execution_count": 4,
   "metadata": {},
   "outputs": [
    {
     "data": {
      "text/plain": [
       "(9375, 10)"
      ]
     },
     "execution_count": 4,
     "metadata": {},
     "output_type": "execute_result"
    }
   ],
   "source": [
    "cardata.drop_duplicates(keep=False, inplace=True)           # Removing duplicate rows\n",
    "cardata.shape"
   ]
  },
  {
   "cell_type": "markdown",
   "metadata": {},
   "source": [
    "This dataset had __201__ duplicate rows, which was removed here and now __9375__ unique rows are present in dataset"
   ]
  },
  {
   "cell_type": "markdown",
   "metadata": {},
   "source": [
    "## 3. Data Profiling"
   ]
  },
  {
   "cell_type": "markdown",
   "metadata": {},
   "source": [
    "- We will first __understand our dataset__ using various pandas functionalities.\n",
    "- Then we will do __pandas profiling__ to find out which columns of our dataset need preprocessing.\n",
    "- In preprocessing we will deal with __zero and missing values__ columns.\n",
    "- again we will do __pandas profiling__ to see how preprocessing have transformed our dataset"
   ]
  },
  {
   "cell_type": "markdown",
   "metadata": {},
   "source": [
    "### 3.1 Understanding the Dataset "
   ]
  },
  {
   "cell_type": "code",
   "execution_count": 8,
   "metadata": {},
   "outputs": [
    {
     "data": {
      "text/plain": [
       "Index(['brand', 'price', 'body', 'mileage', 'engV', 'engType', 'registration',\n",
       "       'prod_year', 'model', 'drive'],\n",
       "      dtype='object')"
      ]
     },
     "execution_count": 8,
     "metadata": {},
     "output_type": "execute_result"
    }
   ],
   "source": [
    "cardata.columns                                          # This will print name of all columns"
   ]
  },
  {
   "cell_type": "code",
   "execution_count": 9,
   "metadata": {},
   "outputs": [
    {
     "data": {
      "text/plain": [
       "brand            object\n",
       "price           float64\n",
       "body             object\n",
       "mileage           int64\n",
       "engV            float64\n",
       "engType          object\n",
       "registration     object\n",
       "prod_year         int64\n",
       "model            object\n",
       "drive            object\n",
       "dtype: object"
      ]
     },
     "execution_count": 9,
     "metadata": {},
     "output_type": "execute_result"
    }
   ],
   "source": [
    "cardata.dtypes                                           # This will print datatypes of all columns"
   ]
  },
  {
   "cell_type": "code",
   "execution_count": 10,
   "metadata": {},
   "outputs": [
    {
     "data": {
      "text/html": [
       "<div>\n",
       "<style scoped>\n",
       "    .dataframe tbody tr th:only-of-type {\n",
       "        vertical-align: middle;\n",
       "    }\n",
       "\n",
       "    .dataframe tbody tr th {\n",
       "        vertical-align: top;\n",
       "    }\n",
       "\n",
       "    .dataframe thead th {\n",
       "        text-align: right;\n",
       "    }\n",
       "</style>\n",
       "<table border=\"1\" class=\"dataframe\">\n",
       "  <thead>\n",
       "    <tr style=\"text-align: right;\">\n",
       "      <th></th>\n",
       "      <th>brand</th>\n",
       "      <th>price</th>\n",
       "      <th>body</th>\n",
       "      <th>mileage</th>\n",
       "      <th>engV</th>\n",
       "      <th>engType</th>\n",
       "      <th>registration</th>\n",
       "      <th>prod_year</th>\n",
       "      <th>model</th>\n",
       "      <th>drive</th>\n",
       "    </tr>\n",
       "  </thead>\n",
       "  <tbody>\n",
       "    <tr>\n",
       "      <th>2</th>\n",
       "      <td>Mercedes-Benz</td>\n",
       "      <td>35000.0</td>\n",
       "      <td>other</td>\n",
       "      <td>135</td>\n",
       "      <td>5.5</td>\n",
       "      <td>Petrol</td>\n",
       "      <td>yes</td>\n",
       "      <td>2008</td>\n",
       "      <td>CL 550</td>\n",
       "      <td>rear</td>\n",
       "    </tr>\n",
       "    <tr>\n",
       "      <th>4</th>\n",
       "      <td>Mercedes-Benz</td>\n",
       "      <td>33000.0</td>\n",
       "      <td>vagon</td>\n",
       "      <td>91</td>\n",
       "      <td>NaN</td>\n",
       "      <td>Other</td>\n",
       "      <td>yes</td>\n",
       "      <td>2013</td>\n",
       "      <td>E-Class</td>\n",
       "      <td>NaN</td>\n",
       "    </tr>\n",
       "    <tr>\n",
       "      <th>6</th>\n",
       "      <td>Honda</td>\n",
       "      <td>6500.0</td>\n",
       "      <td>sedan</td>\n",
       "      <td>199</td>\n",
       "      <td>2.0</td>\n",
       "      <td>Petrol</td>\n",
       "      <td>yes</td>\n",
       "      <td>2003</td>\n",
       "      <td>Accord</td>\n",
       "      <td>front</td>\n",
       "    </tr>\n",
       "    <tr>\n",
       "      <th>8</th>\n",
       "      <td>Mercedes-Benz</td>\n",
       "      <td>21500.0</td>\n",
       "      <td>sedan</td>\n",
       "      <td>146</td>\n",
       "      <td>1.8</td>\n",
       "      <td>Gas</td>\n",
       "      <td>yes</td>\n",
       "      <td>2012</td>\n",
       "      <td>E-Class</td>\n",
       "      <td>rear</td>\n",
       "    </tr>\n",
       "    <tr>\n",
       "      <th>9</th>\n",
       "      <td>Mercedes-Benz</td>\n",
       "      <td>22700.0</td>\n",
       "      <td>sedan</td>\n",
       "      <td>125</td>\n",
       "      <td>2.2</td>\n",
       "      <td>Diesel</td>\n",
       "      <td>yes</td>\n",
       "      <td>2010</td>\n",
       "      <td>E-Class</td>\n",
       "      <td>rear</td>\n",
       "    </tr>\n",
       "  </tbody>\n",
       "</table>\n",
       "</div>"
      ],
      "text/plain": [
       "           brand    price   body  mileage  engV engType registration  \\\n",
       "2  Mercedes-Benz  35000.0  other      135   5.5  Petrol          yes   \n",
       "4  Mercedes-Benz  33000.0  vagon       91   NaN   Other          yes   \n",
       "6          Honda   6500.0  sedan      199   2.0  Petrol          yes   \n",
       "8  Mercedes-Benz  21500.0  sedan      146   1.8     Gas          yes   \n",
       "9  Mercedes-Benz  22700.0  sedan      125   2.2  Diesel          yes   \n",
       "\n",
       "   prod_year    model  drive  \n",
       "2       2008   CL 550   rear  \n",
       "4       2013  E-Class    NaN  \n",
       "6       2003   Accord  front  \n",
       "8       2012  E-Class   rear  \n",
       "9       2010  E-Class   rear  "
      ]
     },
     "execution_count": 10,
     "metadata": {},
     "output_type": "execute_result"
    }
   ],
   "source": [
    "cardata.head()                                          # This will print top 5 rows of dataset"
   ]
  },
  {
   "cell_type": "code",
   "execution_count": 11,
   "metadata": {
    "scrolled": true
   },
   "outputs": [
    {
     "data": {
      "text/html": [
       "<div>\n",
       "<style scoped>\n",
       "    .dataframe tbody tr th:only-of-type {\n",
       "        vertical-align: middle;\n",
       "    }\n",
       "\n",
       "    .dataframe tbody tr th {\n",
       "        vertical-align: top;\n",
       "    }\n",
       "\n",
       "    .dataframe thead th {\n",
       "        text-align: right;\n",
       "    }\n",
       "</style>\n",
       "<table border=\"1\" class=\"dataframe\">\n",
       "  <thead>\n",
       "    <tr style=\"text-align: right;\">\n",
       "      <th></th>\n",
       "      <th>brand</th>\n",
       "      <th>price</th>\n",
       "      <th>body</th>\n",
       "      <th>mileage</th>\n",
       "      <th>engV</th>\n",
       "      <th>engType</th>\n",
       "      <th>registration</th>\n",
       "      <th>prod_year</th>\n",
       "      <th>model</th>\n",
       "      <th>drive</th>\n",
       "    </tr>\n",
       "  </thead>\n",
       "  <tbody>\n",
       "    <tr>\n",
       "      <th>9571</th>\n",
       "      <td>Hyundai</td>\n",
       "      <td>14500.0</td>\n",
       "      <td>crossover</td>\n",
       "      <td>140</td>\n",
       "      <td>2.0</td>\n",
       "      <td>Gas</td>\n",
       "      <td>yes</td>\n",
       "      <td>2011</td>\n",
       "      <td>Tucson</td>\n",
       "      <td>front</td>\n",
       "    </tr>\n",
       "    <tr>\n",
       "      <th>9572</th>\n",
       "      <td>Volkswagen</td>\n",
       "      <td>2200.0</td>\n",
       "      <td>vagon</td>\n",
       "      <td>150</td>\n",
       "      <td>1.6</td>\n",
       "      <td>Petrol</td>\n",
       "      <td>yes</td>\n",
       "      <td>1986</td>\n",
       "      <td>Passat B2</td>\n",
       "      <td>front</td>\n",
       "    </tr>\n",
       "    <tr>\n",
       "      <th>9573</th>\n",
       "      <td>Mercedes-Benz</td>\n",
       "      <td>18500.0</td>\n",
       "      <td>crossover</td>\n",
       "      <td>180</td>\n",
       "      <td>3.5</td>\n",
       "      <td>Petrol</td>\n",
       "      <td>yes</td>\n",
       "      <td>2008</td>\n",
       "      <td>ML 350</td>\n",
       "      <td>full</td>\n",
       "    </tr>\n",
       "    <tr>\n",
       "      <th>9574</th>\n",
       "      <td>Lexus</td>\n",
       "      <td>16999.0</td>\n",
       "      <td>sedan</td>\n",
       "      <td>150</td>\n",
       "      <td>3.5</td>\n",
       "      <td>Gas</td>\n",
       "      <td>yes</td>\n",
       "      <td>2008</td>\n",
       "      <td>ES 350</td>\n",
       "      <td>front</td>\n",
       "    </tr>\n",
       "    <tr>\n",
       "      <th>9575</th>\n",
       "      <td>Audi</td>\n",
       "      <td>22500.0</td>\n",
       "      <td>other</td>\n",
       "      <td>71</td>\n",
       "      <td>3.6</td>\n",
       "      <td>Petrol</td>\n",
       "      <td>yes</td>\n",
       "      <td>2007</td>\n",
       "      <td>Q7</td>\n",
       "      <td>full</td>\n",
       "    </tr>\n",
       "  </tbody>\n",
       "</table>\n",
       "</div>"
      ],
      "text/plain": [
       "              brand    price       body  mileage  engV engType registration  \\\n",
       "9571        Hyundai  14500.0  crossover      140   2.0     Gas          yes   \n",
       "9572     Volkswagen   2200.0      vagon      150   1.6  Petrol          yes   \n",
       "9573  Mercedes-Benz  18500.0  crossover      180   3.5  Petrol          yes   \n",
       "9574          Lexus  16999.0      sedan      150   3.5     Gas          yes   \n",
       "9575           Audi  22500.0      other       71   3.6  Petrol          yes   \n",
       "\n",
       "      prod_year      model  drive  \n",
       "9571       2011     Tucson  front  \n",
       "9572       1986  Passat B2  front  \n",
       "9573       2008     ML 350   full  \n",
       "9574       2008     ES 350  front  \n",
       "9575       2007         Q7   full  "
      ]
     },
     "execution_count": 11,
     "metadata": {},
     "output_type": "execute_result"
    }
   ],
   "source": [
    "cardata.tail()                                         # This will print last 5 rows of dataset"
   ]
  },
  {
   "cell_type": "code",
   "execution_count": 12,
   "metadata": {
    "scrolled": true
   },
   "outputs": [
    {
     "name": "stdout",
     "output_type": "stream",
     "text": [
      "<class 'pandas.core.frame.DataFrame'>\n",
      "Int64Index: 9375 entries, 2 to 9575\n",
      "Data columns (total 10 columns):\n",
      "brand           9375 non-null object\n",
      "price           9375 non-null float64\n",
      "body            9375 non-null object\n",
      "mileage         9375 non-null int64\n",
      "engV            8941 non-null float64\n",
      "engType         9375 non-null object\n",
      "registration    9375 non-null object\n",
      "prod_year       9375 non-null int64\n",
      "model           9375 non-null object\n",
      "drive           8866 non-null object\n",
      "dtypes: float64(2), int64(2), object(6)\n",
      "memory usage: 805.7+ KB\n"
     ]
    }
   ],
   "source": [
    "cardata.info()                                        # This will show index, data type and memory information"
   ]
  },
  {
   "cell_type": "code",
   "execution_count": 13,
   "metadata": {},
   "outputs": [
    {
     "data": {
      "text/html": [
       "<div>\n",
       "<style scoped>\n",
       "    .dataframe tbody tr th:only-of-type {\n",
       "        vertical-align: middle;\n",
       "    }\n",
       "\n",
       "    .dataframe tbody tr th {\n",
       "        vertical-align: top;\n",
       "    }\n",
       "\n",
       "    .dataframe thead th {\n",
       "        text-align: right;\n",
       "    }\n",
       "</style>\n",
       "<table border=\"1\" class=\"dataframe\">\n",
       "  <thead>\n",
       "    <tr style=\"text-align: right;\">\n",
       "      <th></th>\n",
       "      <th>brand</th>\n",
       "      <th>price</th>\n",
       "      <th>body</th>\n",
       "      <th>mileage</th>\n",
       "      <th>engV</th>\n",
       "      <th>engType</th>\n",
       "      <th>registration</th>\n",
       "      <th>prod_year</th>\n",
       "      <th>model</th>\n",
       "      <th>drive</th>\n",
       "    </tr>\n",
       "  </thead>\n",
       "  <tbody>\n",
       "    <tr>\n",
       "      <th>count</th>\n",
       "      <td>9375</td>\n",
       "      <td>9375.000000</td>\n",
       "      <td>9375</td>\n",
       "      <td>9375.000000</td>\n",
       "      <td>8941.000000</td>\n",
       "      <td>9375</td>\n",
       "      <td>9375</td>\n",
       "      <td>9375.000000</td>\n",
       "      <td>9375</td>\n",
       "      <td>8866</td>\n",
       "    </tr>\n",
       "    <tr>\n",
       "      <th>unique</th>\n",
       "      <td>87</td>\n",
       "      <td>NaN</td>\n",
       "      <td>6</td>\n",
       "      <td>NaN</td>\n",
       "      <td>NaN</td>\n",
       "      <td>4</td>\n",
       "      <td>2</td>\n",
       "      <td>NaN</td>\n",
       "      <td>888</td>\n",
       "      <td>3</td>\n",
       "    </tr>\n",
       "    <tr>\n",
       "      <th>top</th>\n",
       "      <td>Volkswagen</td>\n",
       "      <td>NaN</td>\n",
       "      <td>sedan</td>\n",
       "      <td>NaN</td>\n",
       "      <td>NaN</td>\n",
       "      <td>Petrol</td>\n",
       "      <td>yes</td>\n",
       "      <td>NaN</td>\n",
       "      <td>E-Class</td>\n",
       "      <td>front</td>\n",
       "    </tr>\n",
       "    <tr>\n",
       "      <th>freq</th>\n",
       "      <td>919</td>\n",
       "      <td>NaN</td>\n",
       "      <td>3601</td>\n",
       "      <td>NaN</td>\n",
       "      <td>NaN</td>\n",
       "      <td>4309</td>\n",
       "      <td>8814</td>\n",
       "      <td>NaN</td>\n",
       "      <td>188</td>\n",
       "      <td>5156</td>\n",
       "    </tr>\n",
       "    <tr>\n",
       "      <th>mean</th>\n",
       "      <td>NaN</td>\n",
       "      <td>15010.846384</td>\n",
       "      <td>NaN</td>\n",
       "      <td>140.751360</td>\n",
       "      <td>2.637962</td>\n",
       "      <td>NaN</td>\n",
       "      <td>NaN</td>\n",
       "      <td>2006.464107</td>\n",
       "      <td>NaN</td>\n",
       "      <td>NaN</td>\n",
       "    </tr>\n",
       "    <tr>\n",
       "      <th>std</th>\n",
       "      <td>NaN</td>\n",
       "      <td>22091.098664</td>\n",
       "      <td>NaN</td>\n",
       "      <td>98.345011</td>\n",
       "      <td>5.991054</td>\n",
       "      <td>NaN</td>\n",
       "      <td>NaN</td>\n",
       "      <td>7.059092</td>\n",
       "      <td>NaN</td>\n",
       "      <td>NaN</td>\n",
       "    </tr>\n",
       "    <tr>\n",
       "      <th>min</th>\n",
       "      <td>NaN</td>\n",
       "      <td>0.000000</td>\n",
       "      <td>NaN</td>\n",
       "      <td>0.000000</td>\n",
       "      <td>0.100000</td>\n",
       "      <td>NaN</td>\n",
       "      <td>NaN</td>\n",
       "      <td>1953.000000</td>\n",
       "      <td>NaN</td>\n",
       "      <td>NaN</td>\n",
       "    </tr>\n",
       "    <tr>\n",
       "      <th>25%</th>\n",
       "      <td>NaN</td>\n",
       "      <td>4999.000000</td>\n",
       "      <td>NaN</td>\n",
       "      <td>72.000000</td>\n",
       "      <td>1.600000</td>\n",
       "      <td>NaN</td>\n",
       "      <td>NaN</td>\n",
       "      <td>2004.000000</td>\n",
       "      <td>NaN</td>\n",
       "      <td>NaN</td>\n",
       "    </tr>\n",
       "    <tr>\n",
       "      <th>50%</th>\n",
       "      <td>NaN</td>\n",
       "      <td>9025.000000</td>\n",
       "      <td>NaN</td>\n",
       "      <td>130.000000</td>\n",
       "      <td>2.000000</td>\n",
       "      <td>NaN</td>\n",
       "      <td>NaN</td>\n",
       "      <td>2008.000000</td>\n",
       "      <td>NaN</td>\n",
       "      <td>NaN</td>\n",
       "    </tr>\n",
       "    <tr>\n",
       "      <th>75%</th>\n",
       "      <td>NaN</td>\n",
       "      <td>16300.000000</td>\n",
       "      <td>NaN</td>\n",
       "      <td>196.000000</td>\n",
       "      <td>2.500000</td>\n",
       "      <td>NaN</td>\n",
       "      <td>NaN</td>\n",
       "      <td>2012.000000</td>\n",
       "      <td>NaN</td>\n",
       "      <td>NaN</td>\n",
       "    </tr>\n",
       "    <tr>\n",
       "      <th>max</th>\n",
       "      <td>NaN</td>\n",
       "      <td>547800.000000</td>\n",
       "      <td>NaN</td>\n",
       "      <td>999.000000</td>\n",
       "      <td>99.990000</td>\n",
       "      <td>NaN</td>\n",
       "      <td>NaN</td>\n",
       "      <td>2016.000000</td>\n",
       "      <td>NaN</td>\n",
       "      <td>NaN</td>\n",
       "    </tr>\n",
       "  </tbody>\n",
       "</table>\n",
       "</div>"
      ],
      "text/plain": [
       "             brand          price   body      mileage         engV engType  \\\n",
       "count         9375    9375.000000   9375  9375.000000  8941.000000    9375   \n",
       "unique          87            NaN      6          NaN          NaN       4   \n",
       "top     Volkswagen            NaN  sedan          NaN          NaN  Petrol   \n",
       "freq           919            NaN   3601          NaN          NaN    4309   \n",
       "mean           NaN   15010.846384    NaN   140.751360     2.637962     NaN   \n",
       "std            NaN   22091.098664    NaN    98.345011     5.991054     NaN   \n",
       "min            NaN       0.000000    NaN     0.000000     0.100000     NaN   \n",
       "25%            NaN    4999.000000    NaN    72.000000     1.600000     NaN   \n",
       "50%            NaN    9025.000000    NaN   130.000000     2.000000     NaN   \n",
       "75%            NaN   16300.000000    NaN   196.000000     2.500000     NaN   \n",
       "max            NaN  547800.000000    NaN   999.000000    99.990000     NaN   \n",
       "\n",
       "       registration    prod_year    model  drive  \n",
       "count          9375  9375.000000     9375   8866  \n",
       "unique            2          NaN      888      3  \n",
       "top             yes          NaN  E-Class  front  \n",
       "freq           8814          NaN      188   5156  \n",
       "mean            NaN  2006.464107      NaN    NaN  \n",
       "std             NaN     7.059092      NaN    NaN  \n",
       "min             NaN  1953.000000      NaN    NaN  \n",
       "25%             NaN  2004.000000      NaN    NaN  \n",
       "50%             NaN  2008.000000      NaN    NaN  \n",
       "75%             NaN  2012.000000      NaN    NaN  \n",
       "max             NaN  2016.000000      NaN    NaN  "
      ]
     },
     "execution_count": 13,
     "metadata": {},
     "output_type": "execute_result"
    }
   ],
   "source": [
    "cardata.describe(include='all')                       # This will display statistical information of dataset"
   ]
  },
  {
   "cell_type": "markdown",
   "metadata": {},
   "source": [
    "Here we can see that __price__ and __mileage__ columns have a minimum value of __zero__, __zero values__ does not make sense and indicates an invalid or missing value. "
   ]
  },
  {
   "cell_type": "code",
   "execution_count": 14,
   "metadata": {
    "scrolled": true
   },
   "outputs": [
    {
     "data": {
      "text/plain": [
       "brand             0\n",
       "price             0\n",
       "body              0\n",
       "mileage           0\n",
       "engV            434\n",
       "engType           0\n",
       "registration      0\n",
       "prod_year         0\n",
       "model             0\n",
       "drive           509\n",
       "dtype: int64"
      ]
     },
     "execution_count": 14,
     "metadata": {},
     "output_type": "execute_result"
    }
   ],
   "source": [
    "cardata.isnull().sum()                                # This will print count of NaN values in column     "
   ]
  },
  {
   "cell_type": "markdown",
   "metadata": {},
   "source": [
    "From the above output we can see that __engV__ and __drive__ columns contains null values. We will see further how to deal with them"
   ]
  },
  {
   "cell_type": "markdown",
   "metadata": {},
   "source": [
    "### 3.2 Pre Profiling of Data"
   ]
  },
  {
   "cell_type": "markdown",
   "metadata": {},
   "source": [
    "- By pandas profiling, an __interactive HTML report__ gets generated which contins all the information about the columns of the dataset, like the __counts and type__ of each _column_. Detailed information about each column, __coorelation between different columns__ and a sample of dataset.<br/>\n",
    "- It gives us __visual interpretation__ of each column in the data.\n",
    "- _Spread of the data_ can be better understood by the distribution plot. \n",
    "- _Grannular level_ analysis of each column."
   ]
  },
  {
   "cell_type": "code",
   "execution_count": 15,
   "metadata": {},
   "outputs": [],
   "source": [
    "preprofile = pandas_profiling.ProfileReport(cardata)\n",
    "preprofile.to_file(outputfile=\"cardata_before_preprocessing.html\")"
   ]
  },
  {
   "cell_type": "markdown",
   "metadata": {},
   "source": [
    "Here, we have done Pandas Profiling before preprocessing our dataset, so we have named the html file as __cardata_before_preprocessing.html__. We can find useful insight by analyzing this file. <br/>\n",
    "Now we will process our data to better understand it."
   ]
  },
  {
   "cell_type": "markdown",
   "metadata": {},
   "source": [
    "### 3.3 Preprocessing of Data"
   ]
  },
  {
   "cell_type": "markdown",
   "metadata": {},
   "source": [
    "- Drop column __model__ due to high __cardinality__."
   ]
  },
  {
   "cell_type": "code",
   "execution_count": 5,
   "metadata": {},
   "outputs": [
    {
     "data": {
      "text/html": [
       "<div>\n",
       "<style scoped>\n",
       "    .dataframe tbody tr th:only-of-type {\n",
       "        vertical-align: middle;\n",
       "    }\n",
       "\n",
       "    .dataframe tbody tr th {\n",
       "        vertical-align: top;\n",
       "    }\n",
       "\n",
       "    .dataframe thead th {\n",
       "        text-align: right;\n",
       "    }\n",
       "</style>\n",
       "<table border=\"1\" class=\"dataframe\">\n",
       "  <thead>\n",
       "    <tr style=\"text-align: right;\">\n",
       "      <th></th>\n",
       "      <th>brand</th>\n",
       "      <th>price</th>\n",
       "      <th>body</th>\n",
       "      <th>mileage</th>\n",
       "      <th>engV</th>\n",
       "      <th>engType</th>\n",
       "      <th>registration</th>\n",
       "      <th>prod_year</th>\n",
       "      <th>drive</th>\n",
       "    </tr>\n",
       "  </thead>\n",
       "  <tbody>\n",
       "    <tr>\n",
       "      <th>2</th>\n",
       "      <td>Mercedes-Benz</td>\n",
       "      <td>35000.0</td>\n",
       "      <td>other</td>\n",
       "      <td>135</td>\n",
       "      <td>5.5</td>\n",
       "      <td>Petrol</td>\n",
       "      <td>yes</td>\n",
       "      <td>2008</td>\n",
       "      <td>rear</td>\n",
       "    </tr>\n",
       "    <tr>\n",
       "      <th>4</th>\n",
       "      <td>Mercedes-Benz</td>\n",
       "      <td>33000.0</td>\n",
       "      <td>vagon</td>\n",
       "      <td>91</td>\n",
       "      <td>NaN</td>\n",
       "      <td>Other</td>\n",
       "      <td>yes</td>\n",
       "      <td>2013</td>\n",
       "      <td>NaN</td>\n",
       "    </tr>\n",
       "    <tr>\n",
       "      <th>6</th>\n",
       "      <td>Honda</td>\n",
       "      <td>6500.0</td>\n",
       "      <td>sedan</td>\n",
       "      <td>199</td>\n",
       "      <td>2.0</td>\n",
       "      <td>Petrol</td>\n",
       "      <td>yes</td>\n",
       "      <td>2003</td>\n",
       "      <td>front</td>\n",
       "    </tr>\n",
       "    <tr>\n",
       "      <th>8</th>\n",
       "      <td>Mercedes-Benz</td>\n",
       "      <td>21500.0</td>\n",
       "      <td>sedan</td>\n",
       "      <td>146</td>\n",
       "      <td>1.8</td>\n",
       "      <td>Gas</td>\n",
       "      <td>yes</td>\n",
       "      <td>2012</td>\n",
       "      <td>rear</td>\n",
       "    </tr>\n",
       "    <tr>\n",
       "      <th>9</th>\n",
       "      <td>Mercedes-Benz</td>\n",
       "      <td>22700.0</td>\n",
       "      <td>sedan</td>\n",
       "      <td>125</td>\n",
       "      <td>2.2</td>\n",
       "      <td>Diesel</td>\n",
       "      <td>yes</td>\n",
       "      <td>2010</td>\n",
       "      <td>rear</td>\n",
       "    </tr>\n",
       "  </tbody>\n",
       "</table>\n",
       "</div>"
      ],
      "text/plain": [
       "           brand    price   body  mileage  engV engType registration  \\\n",
       "2  Mercedes-Benz  35000.0  other      135   5.5  Petrol          yes   \n",
       "4  Mercedes-Benz  33000.0  vagon       91   NaN   Other          yes   \n",
       "6          Honda   6500.0  sedan      199   2.0  Petrol          yes   \n",
       "8  Mercedes-Benz  21500.0  sedan      146   1.8     Gas          yes   \n",
       "9  Mercedes-Benz  22700.0  sedan      125   2.2  Diesel          yes   \n",
       "\n",
       "   prod_year  drive  \n",
       "2       2008   rear  \n",
       "4       2013    NaN  \n",
       "6       2003  front  \n",
       "8       2012   rear  \n",
       "9       2010   rear  "
      ]
     },
     "execution_count": 5,
     "metadata": {},
     "output_type": "execute_result"
    }
   ],
   "source": [
    "cardata.drop(['model'], axis=1, inplace=True)                        # Droping column model\n",
    "cardata.head(5)"
   ]
  },
  {
   "cell_type": "markdown",
   "metadata": {},
   "source": [
    "- __Dealing with zero values__<br/>\n",
    "\n",
    "- Replacing zero values of __price__ column with mean value of price, group by on __car__ column."
   ]
  },
  {
   "cell_type": "code",
   "execution_count": 6,
   "metadata": {},
   "outputs": [
    {
     "data": {
      "text/plain": [
       "9151"
      ]
     },
     "execution_count": 6,
     "metadata": {},
     "output_type": "execute_result"
    }
   ],
   "source": [
    "cardata['price'].astype(bool).sum(axis=0)                         # This will print count of all non zero values in column"
   ]
  },
  {
   "cell_type": "markdown",
   "metadata": {},
   "source": [
    "From the above output we can see that __price__ column has 9151 non zero value out of 9375 rows, i.e. __224__ observation has __zero__ value for __price__ column."
   ]
  },
  {
   "cell_type": "code",
   "execution_count": 7,
   "metadata": {},
   "outputs": [],
   "source": [
    "cardata['price'] = cardata['price'].replace(0,np.nan)                     # This will replace zero value with NaN"
   ]
  },
  {
   "cell_type": "code",
   "execution_count": 8,
   "metadata": {},
   "outputs": [],
   "source": [
    "cardata['price'].fillna(cardata.groupby('brand')['price'].transform('mean'),inplace=True) # This will replace NaN with mean"
   ]
  },
  {
   "cell_type": "code",
   "execution_count": 9,
   "metadata": {},
   "outputs": [
    {
     "data": {
      "text/html": [
       "<div>\n",
       "<style scoped>\n",
       "    .dataframe tbody tr th:only-of-type {\n",
       "        vertical-align: middle;\n",
       "    }\n",
       "\n",
       "    .dataframe tbody tr th {\n",
       "        vertical-align: top;\n",
       "    }\n",
       "\n",
       "    .dataframe thead th {\n",
       "        text-align: right;\n",
       "    }\n",
       "</style>\n",
       "<table border=\"1\" class=\"dataframe\">\n",
       "  <thead>\n",
       "    <tr style=\"text-align: right;\">\n",
       "      <th></th>\n",
       "      <th>brand</th>\n",
       "      <th>price</th>\n",
       "      <th>body</th>\n",
       "      <th>mileage</th>\n",
       "      <th>engV</th>\n",
       "      <th>engType</th>\n",
       "      <th>registration</th>\n",
       "      <th>prod_year</th>\n",
       "      <th>drive</th>\n",
       "    </tr>\n",
       "  </thead>\n",
       "  <tbody>\n",
       "    <tr>\n",
       "      <th>8824</th>\n",
       "      <td>Fisker</td>\n",
       "      <td>NaN</td>\n",
       "      <td>other</td>\n",
       "      <td>100</td>\n",
       "      <td>NaN</td>\n",
       "      <td>Other</td>\n",
       "      <td>yes</td>\n",
       "      <td>2001</td>\n",
       "      <td>NaN</td>\n",
       "    </tr>\n",
       "  </tbody>\n",
       "</table>\n",
       "</div>"
      ],
      "text/plain": [
       "       brand  price   body  mileage  engV engType registration  prod_year  \\\n",
       "8824  Fisker    NaN  other      100   NaN   Other          yes       2001   \n",
       "\n",
       "     drive  \n",
       "8824   NaN  "
      ]
     },
     "execution_count": 9,
     "metadata": {},
     "output_type": "execute_result"
    }
   ],
   "source": [
    "cardata[cardata['price'].isnull()]                                      # Check the observation for NaN value after replacing "
   ]
  },
  {
   "cell_type": "markdown",
   "metadata": {},
   "source": [
    "- From the above output we can see that, still we have 1 observation with null value for __price__ column, after replacing null   values with mean.<br/>\n",
    "- This observation still exist with null value, because we  had only 1 observation for car brand __Fisker__ with zero price in   our dataset before processing the data, so when we calculate __mean__ value of __price__ group by __brand__ then we got the null \n",
    "  value for this observation, hence it is updated with NaN value.<br/>\n",
    "- It is only one record and also having null value for __price__, __engV__ and __drive__ column, so we can remove this row."
   ]
  },
  {
   "cell_type": "code",
   "execution_count": 10,
   "metadata": {},
   "outputs": [],
   "source": [
    "# This will drop the observation which has null value of price\n",
    "cardata.drop(cardata[cardata['price'].isnull()].index, inplace = True) "
   ]
  },
  {
   "cell_type": "markdown",
   "metadata": {},
   "source": [
    "- __Dealing with zero values__<br/>\n",
    "\n",
    "- Replacing zero values of __mileage__ column with mean value of mileage, group by on __brand__ column."
   ]
  },
  {
   "cell_type": "code",
   "execution_count": 11,
   "metadata": {},
   "outputs": [
    {
     "data": {
      "text/plain": [
       "9089"
      ]
     },
     "execution_count": 11,
     "metadata": {},
     "output_type": "execute_result"
    }
   ],
   "source": [
    "cardata['mileage'].astype(bool).sum(axis=0)                         # This will print count of all non zero values in column"
   ]
  },
  {
   "cell_type": "markdown",
   "metadata": {},
   "source": [
    "From the above output we can see that __mileage__ column has 9089 non zero value out of 9374 rows, i.e. __285__ observation has zero value for __mileage__ column."
   ]
  },
  {
   "cell_type": "code",
   "execution_count": 12,
   "metadata": {},
   "outputs": [],
   "source": [
    "cardata['mileage'] = cardata['mileage'].replace(0,np.nan)                     # This will replace zero value with NaN"
   ]
  },
  {
   "cell_type": "code",
   "execution_count": 13,
   "metadata": {},
   "outputs": [],
   "source": [
    "# This will replace NaN with mean\n",
    "cardata['mileage'].fillna(cardata.groupby('brand')['mileage'].transform('mean'),inplace=True) "
   ]
  },
  {
   "cell_type": "code",
   "execution_count": 14,
   "metadata": {},
   "outputs": [
    {
     "data": {
      "text/html": [
       "<div>\n",
       "<style scoped>\n",
       "    .dataframe tbody tr th:only-of-type {\n",
       "        vertical-align: middle;\n",
       "    }\n",
       "\n",
       "    .dataframe tbody tr th {\n",
       "        vertical-align: top;\n",
       "    }\n",
       "\n",
       "    .dataframe thead th {\n",
       "        text-align: right;\n",
       "    }\n",
       "</style>\n",
       "<table border=\"1\" class=\"dataframe\">\n",
       "  <thead>\n",
       "    <tr style=\"text-align: right;\">\n",
       "      <th></th>\n",
       "      <th>brand</th>\n",
       "      <th>price</th>\n",
       "      <th>body</th>\n",
       "      <th>mileage</th>\n",
       "      <th>engV</th>\n",
       "      <th>engType</th>\n",
       "      <th>registration</th>\n",
       "      <th>prod_year</th>\n",
       "      <th>drive</th>\n",
       "    </tr>\n",
       "  </thead>\n",
       "  <tbody>\n",
       "  </tbody>\n",
       "</table>\n",
       "</div>"
      ],
      "text/plain": [
       "Empty DataFrame\n",
       "Columns: [brand, price, body, mileage, engV, engType, registration, prod_year, drive]\n",
       "Index: []"
      ]
     },
     "execution_count": 14,
     "metadata": {},
     "output_type": "execute_result"
    }
   ],
   "source": [
    "cardata[cardata['mileage'].isnull()]                                      # Check the observation for NaN value after replacing "
   ]
  },
  {
   "cell_type": "markdown",
   "metadata": {},
   "source": [
    "From the above output we can see that, now __mileage__ column does not have any null value"
   ]
  },
  {
   "cell_type": "markdown",
   "metadata": {},
   "source": [
    "- __Dealing with missing values__<br/>\n",
    "\n",
    "- Replacing null values of __engV__ column with mean value of __engV__ column."
   ]
  },
  {
   "cell_type": "code",
   "execution_count": 15,
   "metadata": {},
   "outputs": [
    {
     "data": {
      "text/plain": [
       "brand             0\n",
       "price             0\n",
       "body              0\n",
       "mileage           0\n",
       "engV            433\n",
       "engType           0\n",
       "registration      0\n",
       "prod_year         0\n",
       "drive           508\n",
       "dtype: int64"
      ]
     },
     "execution_count": 15,
     "metadata": {},
     "output_type": "execute_result"
    }
   ],
   "source": [
    "cardata.isnull().sum()"
   ]
  },
  {
   "cell_type": "markdown",
   "metadata": {},
   "source": [
    "As per the above output __engV__ column has 433 null values, now we will replace these null values with mean of __engV__ column."
   ]
  },
  {
   "cell_type": "code",
   "execution_count": 16,
   "metadata": {},
   "outputs": [],
   "source": [
    "# This will replace NaN with mean\n",
    "cardata['engV'].fillna(cardata['engV'].mean(), inplace=True) "
   ]
  },
  {
   "cell_type": "code",
   "execution_count": 17,
   "metadata": {},
   "outputs": [
    {
     "data": {
      "text/plain": [
       "brand             0\n",
       "price             0\n",
       "body              0\n",
       "mileage           0\n",
       "engV              0\n",
       "engType           0\n",
       "registration      0\n",
       "prod_year         0\n",
       "drive           508\n",
       "dtype: int64"
      ]
     },
     "execution_count": 17,
     "metadata": {},
     "output_type": "execute_result"
    }
   ],
   "source": [
    "cardata.isnull().sum()                                          # Check null value after transforming engV column"
   ]
  },
  {
   "cell_type": "markdown",
   "metadata": {},
   "source": [
    "Now as per the above output __drive__ column has 508 null values, __drive__ column has categorical values so we will replace null values with __mode__ of __drive__ column."
   ]
  },
  {
   "cell_type": "code",
   "execution_count": 18,
   "metadata": {},
   "outputs": [],
   "source": [
    "# This will replace NaN with mode\n",
    "cardata['drive'].fillna(cardata['drive'].mode()[0], inplace=True) "
   ]
  },
  {
   "cell_type": "code",
   "execution_count": 19,
   "metadata": {},
   "outputs": [
    {
     "data": {
      "text/plain": [
       "brand           0\n",
       "price           0\n",
       "body            0\n",
       "mileage         0\n",
       "engV            0\n",
       "engType         0\n",
       "registration    0\n",
       "prod_year       0\n",
       "drive           0\n",
       "dtype: int64"
      ]
     },
     "execution_count": 19,
     "metadata": {},
     "output_type": "execute_result"
    }
   ],
   "source": [
    "cardata.isnull().sum()                                          # Check null value after transforming drive column"
   ]
  },
  {
   "cell_type": "markdown",
   "metadata": {},
   "source": [
    "Now as per the above output none of the columns have null values."
   ]
  },
  {
   "cell_type": "markdown",
   "metadata": {},
   "source": [
    "### 3.4 Post Profiling of Data"
   ]
  },
  {
   "cell_type": "code",
   "execution_count": 37,
   "metadata": {},
   "outputs": [],
   "source": [
    "postprofile = pandas_profiling.ProfileReport(cardata)\n",
    "postprofile.to_file(outputfile=\"cardata_after_preprocessing.html\")"
   ]
  },
  {
   "cell_type": "code",
   "execution_count": 20,
   "metadata": {
    "scrolled": false
   },
   "outputs": [
    {
     "data": {
      "text/html": [
       "<div>\n",
       "<style scoped>\n",
       "    .dataframe tbody tr th:only-of-type {\n",
       "        vertical-align: middle;\n",
       "    }\n",
       "\n",
       "    .dataframe tbody tr th {\n",
       "        vertical-align: top;\n",
       "    }\n",
       "\n",
       "    .dataframe thead th {\n",
       "        text-align: right;\n",
       "    }\n",
       "</style>\n",
       "<table border=\"1\" class=\"dataframe\">\n",
       "  <thead>\n",
       "    <tr style=\"text-align: right;\">\n",
       "      <th></th>\n",
       "      <th>brand</th>\n",
       "      <th>price</th>\n",
       "      <th>body</th>\n",
       "      <th>mileage</th>\n",
       "      <th>engV</th>\n",
       "      <th>engType</th>\n",
       "      <th>registration</th>\n",
       "      <th>prod_year</th>\n",
       "      <th>drive</th>\n",
       "    </tr>\n",
       "  </thead>\n",
       "  <tbody>\n",
       "    <tr>\n",
       "      <th>count</th>\n",
       "      <td>9374</td>\n",
       "      <td>9374.000000</td>\n",
       "      <td>9374</td>\n",
       "      <td>9374.000000</td>\n",
       "      <td>9374.000000</td>\n",
       "      <td>9374</td>\n",
       "      <td>9374</td>\n",
       "      <td>9374.000000</td>\n",
       "      <td>9374</td>\n",
       "    </tr>\n",
       "    <tr>\n",
       "      <th>unique</th>\n",
       "      <td>86</td>\n",
       "      <td>NaN</td>\n",
       "      <td>6</td>\n",
       "      <td>NaN</td>\n",
       "      <td>NaN</td>\n",
       "      <td>4</td>\n",
       "      <td>2</td>\n",
       "      <td>NaN</td>\n",
       "      <td>3</td>\n",
       "    </tr>\n",
       "    <tr>\n",
       "      <th>top</th>\n",
       "      <td>Volkswagen</td>\n",
       "      <td>NaN</td>\n",
       "      <td>sedan</td>\n",
       "      <td>NaN</td>\n",
       "      <td>NaN</td>\n",
       "      <td>Petrol</td>\n",
       "      <td>yes</td>\n",
       "      <td>NaN</td>\n",
       "      <td>front</td>\n",
       "    </tr>\n",
       "    <tr>\n",
       "      <th>freq</th>\n",
       "      <td>919</td>\n",
       "      <td>NaN</td>\n",
       "      <td>3601</td>\n",
       "      <td>NaN</td>\n",
       "      <td>NaN</td>\n",
       "      <td>4309</td>\n",
       "      <td>8813</td>\n",
       "      <td>NaN</td>\n",
       "      <td>5664</td>\n",
       "    </tr>\n",
       "    <tr>\n",
       "      <th>mean</th>\n",
       "      <td>NaN</td>\n",
       "      <td>15517.081150</td>\n",
       "      <td>NaN</td>\n",
       "      <td>145.255332</td>\n",
       "      <td>2.637962</td>\n",
       "      <td>NaN</td>\n",
       "      <td>NaN</td>\n",
       "      <td>2006.464690</td>\n",
       "      <td>NaN</td>\n",
       "    </tr>\n",
       "    <tr>\n",
       "      <th>std</th>\n",
       "      <td>NaN</td>\n",
       "      <td>22168.588839</td>\n",
       "      <td>NaN</td>\n",
       "      <td>95.358965</td>\n",
       "      <td>5.851035</td>\n",
       "      <td>NaN</td>\n",
       "      <td>NaN</td>\n",
       "      <td>7.059242</td>\n",
       "      <td>NaN</td>\n",
       "    </tr>\n",
       "    <tr>\n",
       "      <th>min</th>\n",
       "      <td>NaN</td>\n",
       "      <td>259.350000</td>\n",
       "      <td>NaN</td>\n",
       "      <td>1.000000</td>\n",
       "      <td>0.100000</td>\n",
       "      <td>NaN</td>\n",
       "      <td>NaN</td>\n",
       "      <td>1953.000000</td>\n",
       "      <td>NaN</td>\n",
       "    </tr>\n",
       "    <tr>\n",
       "      <th>25%</th>\n",
       "      <td>NaN</td>\n",
       "      <td>5400.000000</td>\n",
       "      <td>NaN</td>\n",
       "      <td>80.000000</td>\n",
       "      <td>1.600000</td>\n",
       "      <td>NaN</td>\n",
       "      <td>NaN</td>\n",
       "      <td>2004.000000</td>\n",
       "      <td>NaN</td>\n",
       "    </tr>\n",
       "    <tr>\n",
       "      <th>50%</th>\n",
       "      <td>NaN</td>\n",
       "      <td>9500.000000</td>\n",
       "      <td>NaN</td>\n",
       "      <td>133.000000</td>\n",
       "      <td>2.000000</td>\n",
       "      <td>NaN</td>\n",
       "      <td>NaN</td>\n",
       "      <td>2008.000000</td>\n",
       "      <td>NaN</td>\n",
       "    </tr>\n",
       "    <tr>\n",
       "      <th>75%</th>\n",
       "      <td>NaN</td>\n",
       "      <td>16999.000000</td>\n",
       "      <td>NaN</td>\n",
       "      <td>196.000000</td>\n",
       "      <td>2.637962</td>\n",
       "      <td>NaN</td>\n",
       "      <td>NaN</td>\n",
       "      <td>2012.000000</td>\n",
       "      <td>NaN</td>\n",
       "    </tr>\n",
       "    <tr>\n",
       "      <th>max</th>\n",
       "      <td>NaN</td>\n",
       "      <td>547800.000000</td>\n",
       "      <td>NaN</td>\n",
       "      <td>999.000000</td>\n",
       "      <td>99.990000</td>\n",
       "      <td>NaN</td>\n",
       "      <td>NaN</td>\n",
       "      <td>2016.000000</td>\n",
       "      <td>NaN</td>\n",
       "    </tr>\n",
       "  </tbody>\n",
       "</table>\n",
       "</div>"
      ],
      "text/plain": [
       "             brand          price   body      mileage         engV engType  \\\n",
       "count         9374    9374.000000   9374  9374.000000  9374.000000    9374   \n",
       "unique          86            NaN      6          NaN          NaN       4   \n",
       "top     Volkswagen            NaN  sedan          NaN          NaN  Petrol   \n",
       "freq           919            NaN   3601          NaN          NaN    4309   \n",
       "mean           NaN   15517.081150    NaN   145.255332     2.637962     NaN   \n",
       "std            NaN   22168.588839    NaN    95.358965     5.851035     NaN   \n",
       "min            NaN     259.350000    NaN     1.000000     0.100000     NaN   \n",
       "25%            NaN    5400.000000    NaN    80.000000     1.600000     NaN   \n",
       "50%            NaN    9500.000000    NaN   133.000000     2.000000     NaN   \n",
       "75%            NaN   16999.000000    NaN   196.000000     2.637962     NaN   \n",
       "max            NaN  547800.000000    NaN   999.000000    99.990000     NaN   \n",
       "\n",
       "       registration    prod_year  drive  \n",
       "count          9374  9374.000000   9374  \n",
       "unique            2          NaN      3  \n",
       "top             yes          NaN  front  \n",
       "freq           8813          NaN   5664  \n",
       "mean            NaN  2006.464690    NaN  \n",
       "std             NaN     7.059242    NaN  \n",
       "min             NaN  1953.000000    NaN  \n",
       "25%             NaN  2004.000000    NaN  \n",
       "50%             NaN  2008.000000    NaN  \n",
       "75%             NaN  2012.000000    NaN  \n",
       "max             NaN  2016.000000    NaN  "
      ]
     },
     "execution_count": 20,
     "metadata": {},
     "output_type": "execute_result"
    }
   ],
   "source": [
    "cardata.describe(include='all')"
   ]
  },
  {
   "cell_type": "markdown",
   "metadata": {},
   "source": [
    "We have processed the data and now the dataset does not contain any missing values. So, the pandas profiling report which we have generated after preprocessing will give us more beneficial insights. \n",
    "observations:\n",
    "\n",
    "- In the Dataset info, __Total Missing(%) = 0.0%__\n",
    "- Number of variables = 9"
   ]
  },
  {
   "cell_type": "markdown",
   "metadata": {},
   "source": [
    "## 4. Questions"
   ]
  },
  {
   "cell_type": "markdown",
   "metadata": {},
   "source": [
    "### Q 1. Which brand of cars sold the most ?"
   ]
  },
  {
   "cell_type": "code",
   "execution_count": 73,
   "metadata": {},
   "outputs": [
    {
     "data": {
      "image/png": "[encoded data removed]",
      "text/plain": [
       "<Figure size 432x288 with 1 Axes>"
      ]
     },
     "metadata": {},
     "output_type": "display_data"
    }
   ],
   "source": [
    "# top 30 brands which cars sold the most\n",
    "sns.countplot(y = 'brand', data = cardata, order = cardata['brand'].value_counts().nlargest(20).index)\n",
    "plt.title(\"Cars sold by brand\")\n",
    "plt.ylabel('Brand')\n",
    "plt.xlabel('No. of Vehicles');\n",
    "plt.show()"
   ]
  },
  {
   "cell_type": "markdown",
   "metadata": {},
   "source": [
    "By this chart we can say that the most cars sold by the company __Volkswagen__ followed by __Mercedes-Benz__ and __BMW__."
   ]
  },
  {
   "cell_type": "markdown",
   "metadata": {},
   "source": [
    "### Q 2. Which body segment of cars sold the most ?"
   ]
  },
  {
   "cell_type": "code",
   "execution_count": 22,
   "metadata": {
    "scrolled": true
   },
   "outputs": [
    {
     "data": {
      "image/png": "[encoded data removed]",
      "text/plain": [
       "<Figure size 432x288 with 1 Axes>"
      ]
     },
     "metadata": {},
     "output_type": "display_data"
    }
   ],
   "source": [
    "cardata['body'].value_counts().plot.bar()                      # Bar chart for car 'body' variable\n",
    "plt.title(\"Cars sold by body\")\n",
    "plt.ylabel('Number of vehicles')\n",
    "plt.xlabel('Body type');"
   ]
  },
  {
   "cell_type": "markdown",
   "metadata": {},
   "source": [
    "This chart says that __\"Sedan\"__ body type cars are the most sold cars, if we want to see it in terms of %, then we can see it in below chart. We can say this in other terms that the most preferred choice for people is __Sedan__, because it is the perfect and comfertable car for small size family within lower budget."
   ]
  },
  {
   "cell_type": "code",
   "execution_count": 23,
   "metadata": {
    "scrolled": true
   },
   "outputs": [
    {
     "data": {
      "image/png": "[encoded data removed]",
      "text/plain": [
       "<Figure size 432x288 with 1 Axes>"
      ]
     },
     "metadata": {},
     "output_type": "display_data"
    }
   ],
   "source": [
    "(cardata['body'].value_counts() / len(cardata)*100).plot.bar()                # Bar chart of car 'body in terms of %'\n",
    "plt.title(\"Body type bar diagram\")\n",
    "plt.ylabel('% of vehicles')\n",
    "plt.xlabel('Body type');"
   ]
  },
  {
   "cell_type": "markdown",
   "metadata": {},
   "source": [
    "Now we can say that approx 38% of total cars sold in __Sedan__ body type, 21% in __Crossover__ body type and 13% in __Hatch__ body type."
   ]
  },
  {
   "cell_type": "markdown",
   "metadata": {},
   "source": [
    "### Q 3. Which drive segment of cars in which body type sold the most ?"
   ]
  },
  {
   "cell_type": "code",
   "execution_count": 24,
   "metadata": {
    "scrolled": false
   },
   "outputs": [
    {
     "data": {
      "image/png": "[encoded data removed]",
      "text/plain": [
       "<Figure size 432x432 with 1 Axes>"
      ]
     },
     "metadata": {},
     "output_type": "display_data"
    }
   ],
   "source": [
    "# Pie chart of car 'drive' type\n",
    "cardata['drive'].value_counts().plot.pie(figsize=(6, 6), autopct='%.2f')\n",
    "plt.title(\"Drive Type pie diagram\")\n",
    "plt.ylabel('Number of vehicles')\n",
    "plt.xlabel('Drive Type');"
   ]
  },
  {
   "cell_type": "markdown",
   "metadata": {},
   "source": [
    "We can say that the most sold cars in __front__ drive type, in terms of percentage we can say that, approx 61% of total cars sold in __front__ drive type, 25% in __full__ drive type and 14% in __rear__ drive type."
   ]
  },
  {
   "cell_type": "code",
   "execution_count": 76,
   "metadata": {
    "scrolled": true
   },
   "outputs": [
    {
     "data": {
      "image/png": "[encoded data removed]",
      "text/plain": [
       "<Figure size 432x288 with 1 Axes>"
      ]
     },
     "metadata": {},
     "output_type": "display_data"
    }
   ],
   "source": [
    "# Body type and Drive type analysis\n",
    "sns.countplot(y='body',data=cardata, hue='drive')\n",
    "plt.title(\"Body Type v/s Drive Type\")\n",
    "plt.ylabel('Body Type')\n",
    "plt.xlabel('Count of vehicles');"
   ]
  },
  {
   "cell_type": "markdown",
   "metadata": {},
   "source": [
    "- __\"Front\"__ wheel drive cars are th top most cars in all body type except in __\"Crossover\"__ body type. \n",
    "- In __\"Crossover\"__ body type __\"Full\"__ wheel drive cars are leading.   "
   ]
  },
  {
   "cell_type": "markdown",
   "metadata": {},
   "source": [
    "### Q 4. Which price segment cars sold the most ?"
   ]
  },
  {
   "cell_type": "code",
   "execution_count": 25,
   "metadata": {},
   "outputs": [
    {
     "data": {
      "text/plain": [
       "259.35"
      ]
     },
     "execution_count": 25,
     "metadata": {},
     "output_type": "execute_result"
    }
   ],
   "source": [
    "cardata['price'].min()                           # minimum price"
   ]
  },
  {
   "cell_type": "code",
   "execution_count": 26,
   "metadata": {},
   "outputs": [
    {
     "data": {
      "text/plain": [
       "547800.0"
      ]
     },
     "execution_count": 26,
     "metadata": {},
     "output_type": "execute_result"
    }
   ],
   "source": [
    "cardata['price'].max()                           # maximum price"
   ]
  },
  {
   "cell_type": "markdown",
   "metadata": {},
   "source": [
    "This dataset has minimum price of car as __259.35__ and maximum price as __547800__, so we can create a new field __price_group__ and update it with 5 to 6 price groups"
   ]
  },
  {
   "cell_type": "code",
   "execution_count": 27,
   "metadata": {},
   "outputs": [],
   "source": [
    "# Create a new column 'price_group' and assign the value based on car price\n",
    "cardata['price_group'] = pd.cut(cardata['price'],[0,20000,40000,60000,80000,100000,600000], \n",
    "                                labels = ['<20K','20-39K','40-59K','60-79K','80-99K','>100K'], include_lowest = True)\n",
    "cardata['price_group'] = cardata['price_group'].astype(object)"
   ]
  },
  {
   "cell_type": "code",
   "execution_count": 28,
   "metadata": {
    "scrolled": false
   },
   "outputs": [
    {
     "data": {
      "image/png": "[encoded data removed]",
      "text/plain": [
       "<Figure size 432x288 with 1 Axes>"
      ]
     },
     "metadata": {},
     "output_type": "display_data"
    }
   ],
   "source": [
    "(cardata['price_group'].value_counts() / len(cardata) *100).plot.bar()\n",
    "plt.title(\"Price Group bar diagram\")\n",
    "plt.ylabel('% of vehicles')\n",
    "plt.xlabel('Price Group');"
   ]
  },
  {
   "cell_type": "markdown",
   "metadata": {},
   "source": [
    "By this chart we can say that approx __80%__ of cars sold in the __price range of less than or equal to $ 20000__"
   ]
  },
  {
   "cell_type": "code",
   "execution_count": 80,
   "metadata": {
    "scrolled": true
   },
   "outputs": [
    {
     "data": {
      "image/png": "[encoded data removed]",
      "text/plain": [
       "<Figure size 432x288 with 1 Axes>"
      ]
     },
     "metadata": {},
     "output_type": "display_data"
    }
   ],
   "source": [
    "# Brand wise car sale in higher price segment\n",
    "carprc = cardata.loc[cardata['price'] >= 100000]\n",
    "(carprc['brand'].value_counts() / len(carprc)*100).plot.bar()                # Bar chart of car 'body in terms of %'\n",
    "plt.title(\"Brand wise Sales Distribution in Higher Price Segment\")\n",
    "plt.ylabel('% of vehicles')\n",
    "plt.xlabel('Brand type');"
   ]
  },
  {
   "cell_type": "markdown",
   "metadata": {},
   "source": [
    "__\"Mercedes-Benz\"__ is the leading brand in higher price segment cars"
   ]
  },
  {
   "cell_type": "markdown",
   "metadata": {},
   "source": [
    "### Q 5. How does price relate to body and drive type of car? "
   ]
  },
  {
   "cell_type": "markdown",
   "metadata": {},
   "source": [
    "- __price group__ v/s __body type__"
   ]
  },
  {
   "cell_type": "code",
   "execution_count": 29,
   "metadata": {
    "scrolled": true
   },
   "outputs": [
    {
     "data": {
      "image/png": "[encoded data removed]",
      "text/plain": [
       "<Figure size 432x288 with 1 Axes>"
      ]
     },
     "metadata": {},
     "output_type": "display_data"
    }
   ],
   "source": [
    "# body type v/s price group\n",
    "sns.countplot(y='price_group',data=cardata, hue='body', order=['<20K','20-39K','40-59K','60-79K','80-99K','>100K'])           \n",
    "plt.title(\"Price Group v/s Body Type\")\n",
    "plt.ylabel('Price Group')\n",
    "plt.xlabel('Count of vehicles');"
   ]
  },
  {
   "cell_type": "markdown",
   "metadata": {},
   "source": [
    "By this chart we can say that\n",
    "- The most cars sold in price range of __200 to 19999__ and majority of these are in __Sedan__  body type. \n",
    "- The majority is __Crossover__ body type in Cars sold at a price __20000 or above__."
   ]
  },
  {
   "cell_type": "markdown",
   "metadata": {},
   "source": [
    "- __price group__ v/s __drive type__"
   ]
  },
  {
   "cell_type": "code",
   "execution_count": 74,
   "metadata": {
    "scrolled": true
   },
   "outputs": [
    {
     "data": {
      "image/png": "[encoded data removed]",
      "text/plain": [
       "<Figure size 432x288 with 1 Axes>"
      ]
     },
     "metadata": {},
     "output_type": "display_data"
    }
   ],
   "source": [
    "# drive type v/s price group\n",
    "sns.countplot(y='price_group',data=cardata, hue='drive', order=['<20K','20-39K','40-59K','60-79K','80-99K','>100K'])\n",
    "plt.title(\"Price Group v/s Drive Type\")\n",
    "plt.ylabel('Price Group')\n",
    "plt.xlabel('Count of vehicles');"
   ]
  },
  {
   "cell_type": "markdown",
   "metadata": {},
   "source": [
    "By this chart we can say that \n",
    "- The most cars sold in price range of __200 to 19999__ and majority of these are in __Front__  drive type. \n",
    "- The majority is __Full__ drive type in Cars sold at a price __20000 or above__."
   ]
  },
  {
   "cell_type": "code",
   "execution_count": 31,
   "metadata": {
    "scrolled": false
   },
   "outputs": [
    {
     "data": {
      "image/png": "[encoded data removed]",
      "text/plain": [
       "<Figure size 576x360 with 1 Axes>"
      ]
     },
     "metadata": {},
     "output_type": "display_data"
    }
   ],
   "source": [
    "# Average price of vehicles by body type and drive type\n",
    "fig, ax = plt.subplots(figsize=(8,5))\n",
    "colors = [\"#00e600\", \"#ff8c1a\",\"#a180cc\"]\n",
    "sns.barplot(x=\"body\", y=\"price\",hue=\"drive\", palette=colors, data=cardata)\n",
    "ax.set_title(\"Average price of cars by body type and drive type\",fontdict= {'size':12})\n",
    "ax.xaxis.set_label_text(\"Body Type Of Car\",fontdict= {'size':12})\n",
    "ax.yaxis.set_label_text(\"Average Price\",fontdict= {'size':12})\n",
    "plt.show()"
   ]
  },
  {
   "cell_type": "markdown",
   "metadata": {},
   "source": [
    "By this chart we can say that __all body types__ of cars have __more average price__ for __full drive type__ cars compare to __other drive types__."
   ]
  },
  {
   "cell_type": "markdown",
   "metadata": {},
   "source": [
    "### Q 6. Does the engType have any impact on price of the car?"
   ]
  },
  {
   "cell_type": "code",
   "execution_count": 32,
   "metadata": {
    "scrolled": true
   },
   "outputs": [
    {
     "data": {
      "image/png": "[encoded data removed]",
      "text/plain": [
       "<Figure size 355x288 with 1 Axes>"
      ]
     },
     "metadata": {},
     "output_type": "display_data"
    }
   ],
   "source": [
    "# Price group v/s engType\n",
    "sns.factorplot(y='price_group', data=cardata, hue='engType', kind= 'count', order=['<20K','20-39K','40-59K','60-79K','80-99K','>100K'])   \n",
    "plt.title('Factorplot for Price Group and Engine Type')\n",
    "plt.ylabel('Price Group')\n",
    "plt.xlabel('Count of vehicles');"
   ]
  },
  {
   "cell_type": "markdown",
   "metadata": {},
   "source": [
    "By this chart we can say that\n",
    "- The most cars sold in price range of __200 to 19999__ and majority of these are in __Petrol__ engine type. \n",
    "- The majority is __Diesel__ engine type in Cars sold at a price __20000 or above__.."
   ]
  },
  {
   "cell_type": "markdown",
   "metadata": {},
   "source": [
    "### Q 7. How does price relate to engine type (engType) and drive type of the car?"
   ]
  },
  {
   "cell_type": "code",
   "execution_count": 33,
   "metadata": {},
   "outputs": [
    {
     "data": {
      "image/png": "[encoded data removed]",
      "text/plain": [
       "<Figure size 576x360 with 1 Axes>"
      ]
     },
     "metadata": {},
     "output_type": "display_data"
    }
   ],
   "source": [
    "# barplot for price based on engine type and drive type\n",
    "fig, ax = plt.subplots(figsize=(8,5))\n",
    "colors = [\"#00e600\", \"#ff8c1a\",\"#a180cc\"]\n",
    "sns.barplot(x=\"engType\", y=\"price\",hue=\"drive\", palette=\"husl\",data=cardata)\n",
    "ax.set_title(\"Average price of Cars by engine type and drive type\",fontdict= {'size':12})\n",
    "ax.xaxis.set_label_text(\"Engine Type\",fontdict= {'size':14})\n",
    "ax.yaxis.set_label_text(\"Average Price\",fontdict= {'size':14})\n",
    "plt.show()"
   ]
  },
  {
   "cell_type": "markdown",
   "metadata": {},
   "source": [
    "By this chart we can say that the cars sold in __all engine type__ have __more average price__ for __full drive type__ cars compare to __other drive type__ cars."
   ]
  },
  {
   "cell_type": "markdown",
   "metadata": {},
   "source": [
    "### Q 8. Which engine volume (engV) cars sold the most ?"
   ]
  },
  {
   "cell_type": "code",
   "execution_count": 34,
   "metadata": {
    "scrolled": true
   },
   "outputs": [
    {
     "data": {
      "image/png": "[encoded data removed]",
      "text/plain": [
       "<Figure size 432x288 with 1 Axes>"
      ]
     },
     "metadata": {},
     "output_type": "display_data"
    }
   ],
   "source": [
    "# grouping of engV  \n",
    "(pd.cut(cardata['engV'],[0,0.51,1.51,2.51,3.51,100], \n",
    "        labels = ['<=0.5','0.51-1.50','1.51-2.50','2.51-3.50','>3.51']).value_counts() / len(cardata)*100).plot.bar()    \n",
    "plt.title(\"Engine Volume (engV) Bar Diagram\")\n",
    "plt.ylabel('% of vehicles')\n",
    "plt.xlabel('Engine Volume Group');"
   ]
  },
  {
   "cell_type": "markdown",
   "metadata": {},
   "source": [
    "By this chart we can say that below are the __top three categories__ of __Engine Volume (engV)__ cars sold.\n",
    "- __Ist Category__   : > 1.5 & <= 2.5 (In this category approx __55%__ of cars are available)\n",
    "- __IInd Category__  : > 0.5 & <= 1.5 (In this category approx __19%__ of cars are available)\n",
    "- __IIIrd Category__ : > 2.5 & <= 3.5 (In this category approx __18%__ of cars are available)\n",
    "\n",
    "Out of total cars sold, approx __92%__ cars fall in range of engine volume more than __1.5 CC to  3.5 CC__"
   ]
  },
  {
   "cell_type": "code",
   "execution_count": 59,
   "metadata": {
    "scrolled": false
   },
   "outputs": [
    {
     "data": {
      "text/plain": [
       "(0, 6)"
      ]
     },
     "execution_count": 59,
     "metadata": {},
     "output_type": "execute_result"
    },
    {
     "data": {
      "image/png": "[encoded data removed]",
      "text/plain": [
       "<Figure size 432x288 with 1 Axes>"
      ]
     },
     "metadata": {},
     "output_type": "display_data"
    }
   ],
   "source": [
    "# engine volume wise count of vehicles\n",
    "careng = cardata.loc[cardata['engV'] <= 6]\n",
    "careng['engV'].value_counts().sort_index().plot.line()\n",
    "plt.title(\"Engine Volume (CC) wise count of vehicles\")\n",
    "plt.ylabel('Count of vehicles')\n",
    "plt.xlabel('Engine Volume');\n",
    "plt.xlim(0,6)"
   ]
  },
  {
   "cell_type": "markdown",
   "metadata": {},
   "source": [
    "By this chart we can say that most of the cars sold have __2.0 CC__ engine volume followed by __1.5 CC__, there are very __few cars sold__ with engine volume __less than equal to 1.0 CC and greater than equal to 4.0 CC__.  "
   ]
  },
  {
   "cell_type": "markdown",
   "metadata": {},
   "source": [
    "### Q 9. How does engine volume (engV) relate to mileage of the car?"
   ]
  },
  {
   "cell_type": "code",
   "execution_count": 35,
   "metadata": {
    "scrolled": true
   },
   "outputs": [
    {
     "data": {
      "image/png": "[encoded data removed]",
      "text/plain": [
       "<Figure size 432x288 with 2 Axes>"
      ]
     },
     "metadata": {},
     "output_type": "display_data"
    }
   ],
   "source": [
    "# engV v/s mileage\n",
    "cardata[cardata['engV'] < 3.51].plot.hexbin(x='engV', y='mileage', sharex=False, gridsize=12)\n",
    "plt.title(\"Engine Volume  v/s Mileage\")\n",
    "plt.ylabel('Mileage')\n",
    "plt.xlabel('Engine Volume');"
   ]
  },
  {
   "cell_type": "markdown",
   "metadata": {},
   "source": [
    "By this chart we can say that most of the cars sold with __engine volume (engV)__ as 1.5 CC and __mileage__ as approx 200."
   ]
  },
  {
   "cell_type": "markdown",
   "metadata": {},
   "source": [
    "### Q 10. How does price is relate to mileage and production year of the car?"
   ]
  },
  {
   "cell_type": "code",
   "execution_count": 36,
   "metadata": {},
   "outputs": [
    {
     "data": {
      "image/png": "[encoded data removed]",
      "text/plain": [
       "<Figure size 432x288 with 1 Axes>"
      ]
     },
     "metadata": {},
     "output_type": "display_data"
    }
   ],
   "source": [
    "# price v/s mileage \n",
    "cardata[cardata['price'] < 100000 ].plot.scatter(x='price', y='mileage')\n",
    "plt.title(\"Price v/s Mileage\")\n",
    "plt.ylabel('Mileage')\n",
    "plt.xlabel('Price');"
   ]
  },
  {
   "cell_type": "markdown",
   "metadata": {},
   "source": [
    "By this chart we can say that __price__ and __mileage__ have __strogly negative correlation__ in sold car dataset , i.e. lower price segment has higher mileage and higher price segment has lower mileage. "
   ]
  },
  {
   "cell_type": "code",
   "execution_count": 37,
   "metadata": {
    "scrolled": true
   },
   "outputs": [
    {
     "data": {
      "image/png": "[encoded data removed]",
      "text/plain": [
       "<Figure size 432x288 with 1 Axes>"
      ]
     },
     "metadata": {},
     "output_type": "display_data"
    }
   ],
   "source": [
    "# price v/s production year\n",
    "cardata[cardata['price'] <= 300000].plot.scatter(x='prod_year',y='price')\n",
    "plt.title(\"Price v/s Production Year\")\n",
    "plt.ylabel('Price')\n",
    "plt.xlabel('Production Year');"
   ]
  },
  {
   "cell_type": "markdown",
   "metadata": {},
   "source": [
    "By this chart we can say that \n",
    "- Majority of the cars with __production year 2008 or later__ sold in __price 50000 or lower__. \n",
    "- All the cars with __production year 2010 or later__ sold in __price more than 50000__.\n",
    "- All the cars with __production year before 2010__ sold in __price 50000 or lower__."
   ]
  },
  {
   "cell_type": "markdown",
   "metadata": {},
   "source": [
    "### Q 11. Which production year of cars sold the most ?"
   ]
  },
  {
   "cell_type": "code",
   "execution_count": 41,
   "metadata": {},
   "outputs": [
    {
     "data": {
      "image/png": "[encoded data removed]",
      "text/plain": [
       "<Figure size 432x288 with 1 Axes>"
      ]
     },
     "metadata": {},
     "output_type": "display_data"
    }
   ],
   "source": [
    "# production year wise count of vehicles\n",
    "caryr = cardata.loc[cardata['prod_year'] >= 2000]\n",
    "caryr['prod_year'].value_counts().sort_index().plot.line()\n",
    "plt.title(\"Production Year wise count of vehicles\")\n",
    "plt.ylabel('Count of vehicles')\n",
    "plt.xlabel('Production Year');"
   ]
  },
  {
   "cell_type": "markdown",
   "metadata": {},
   "source": [
    "By this chart we can say that, __Production year 2008 and 2012__ cars are sold the most. "
   ]
  },
  {
   "cell_type": "markdown",
   "metadata": {},
   "source": [
    "### Q 12. How does production year relate to registration?"
   ]
  },
  {
   "cell_type": "code",
   "execution_count": 42,
   "metadata": {
    "scrolled": true
   },
   "outputs": [
    {
     "data": {
      "text/plain": [
       "<seaborn.axisgrid.FacetGrid at 0xe3d7dfaba8>"
      ]
     },
     "execution_count": 42,
     "metadata": {},
     "output_type": "execute_result"
    },
    {
     "data": {
      "image/png": "[encoded data removed]",
      "text/plain": [
       "<Figure size 778.125x288 with 1 Axes>"
      ]
     },
     "metadata": {},
     "output_type": "display_data"
    }
   ],
   "source": [
    "# Production year v/s registration\n",
    "cc = cardata.loc[cardata['prod_year'] >= 2000]\n",
    "\n",
    "g = sns.factorplot('prod_year',data=cc,aspect=2.5, kind='count',hue='registration',color=\"b\")\n",
    "g.set_xticklabels(rotation=30)"
   ]
  },
  {
   "cell_type": "markdown",
   "metadata": {},
   "source": [
    "By this chart we can say that majority of the cars sold with __production year 2008 or later__ were __registered in Ukrain__."
   ]
  },
  {
   "cell_type": "markdown",
   "metadata": {},
   "source": [
    "### Q 13. Correlation between various features of car data."
   ]
  },
  {
   "cell_type": "code",
   "execution_count": 43,
   "metadata": {
    "scrolled": false
   },
   "outputs": [
    {
     "data": {
      "image/png": "[encoded data removed]",
      "text/plain": [
       "<Figure size 360x360 with 2 Axes>"
      ]
     },
     "metadata": {},
     "output_type": "display_data"
    }
   ],
   "source": [
    "car_corr = cardata.corr()\n",
    "car_corr\n",
    "plt.figure(figsize=(5,5))\n",
    "sns.heatmap(car_corr,vmax=1,square=True,annot=True, cmap='BuGn')\n",
    "plt.title(\"Correlation between various features of car\")\n",
    "plt.show()"
   ]
  },
  {
   "cell_type": "markdown",
   "metadata": {},
   "source": [
    "By this heatmap we can say that;\n",
    "- __price__ and __production year__ variables have __strong positive correlation__, i.e. latest production year cars have high  price and older production year cars have lower price.\n",
    "- __price and engine volume (engV)__ have __mild positive correlation__.\n",
    "- __engine volume (engV) and mileage__ also have some __mild positive correlation__, generally engine volume and mileage do not have positive correlation, but in our data most of the cars have engine volume in between 1.5 CC to 2.5 CC, due to that mileage and engine volume have mild positive correlation.\n",
    "- __production year__ and __mileage__ variables have __strong negative correlation__, i.e. latest production year cars have high mileage and older production year cars have low mileage.\n",
    "- __price and mileage__ have __negative correlation__, i.e. lower price cars have higher mileage and higher price cars have     lower mileage.\n",
    "- __production year and engine volume (engV)__ also have some __negative correlation__."
   ]
  },
  {
   "cell_type": "markdown",
   "metadata": {},
   "source": [
    "## 5. Conclusion"
   ]
  },
  {
   "cell_type": "markdown",
   "metadata": {},
   "source": [
    "- In this dataset We have total 9374 observations after removing duplicate records.\n",
    "- We observe that out of total cars sold, majority of the cars sold by __\"Volkswagen\"__, __\"Mercedes-Benz\"__ and __\"BMW\"__ brand.\n",
    "- __\"Sedan\"__, __\"Crossover\"__ and __\"Hetch\"__ body types cars are the highest sold cars.\n",
    "- __\"Front\" drive type__ segment cars are the highest sold cars, because most of the cars of this segment falls in lower price range.\n",
    "- __\"Front\"__ wheel drive cars are th top most cars in all body type except in __\"Crossover\"__ body type. In __\"Crossover\"__ body type __\"Full\"__ wheel drive cars are leading.  \n",
    "- __80%__ of total cars sold in the __price range of 200 to 20000__ with __body type as \"Sedan\"__, __drive type as \"Front\"__ and __engine type as \"Petrol\"__, because the middle class families preferred low price cars with Sedan body and Petrol engine type.\n",
    "- __\"Mercedes-Benz\"__ is the leading brand in higher price segment cars.\n",
    "- Majority of the __higher price range__ cars sold with __body type as \"Crossover\"__, __drive type as \"Full\"__ and __engine type as \"Diesel\"__.\n",
    "- All __body segment__ of cars have __more average price__ for __\"Full\" drive type__ cars compare to other drive type cars. \n",
    "- All __engine types__ of cars have __more average price__ for __\"Full\" drive type__ cars compare to other drive type cars.\n",
    "- Approx __55%__ of total cars sold have __engine volume in the range of 1.5 CC to 2.5 CC__.\n",
    "- Most of the cars sold in __2.0 CC__ engine volume segment followed by __1.5 CC__, there are very __few cars sold below 1.0 CC and above 4.0 CC__\n",
    "- We have also observed that __lower price segment__ car has __higher mileage__ and __higher price segment__ car has __lower mileage__.\n",
    "- Majority of the cars with __production year 2008 or later__ were __registered in Ukrain__ sold in __price of 50000 or lower__.\n",
    "- Production year __2008__ and __2012__ cars are the highest sold cars.\n",
    "- __Price__ has __positive correlation__ with __engine volume__ and __production year__ and __negatively correlation__ with __mileage__.\n",
    "- __Production year__ has __negative correlation__ with __mileage__ and __engine volume__."
   ]
  }
 ],
 "metadata": {
  "kernelspec": {
   "display_name": "Python 3",
   "language": "python",
   "name": "python3"
  },
  "language_info": {
   "codemirror_mode": {
    "name": "ipython",
    "version": 3
   },
   "file_extension": ".py",
   "mimetype": "text/x-python",
   "name": "python",
   "nbconvert_exporter": "python",
   "pygments_lexer": "ipython3",
   "version": "3.6.5"
  }
 },
 "nbformat": 4,
 "nbformat_minor": 2
}
